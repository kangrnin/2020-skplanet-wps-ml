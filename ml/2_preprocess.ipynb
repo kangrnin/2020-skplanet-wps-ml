{
 "metadata": {
  "language_info": {
   "codemirror_mode": {
    "name": "ipython",
    "version": 3
   },
   "file_extension": ".py",
   "mimetype": "text/x-python",
   "name": "python",
   "nbconvert_exporter": "python",
   "pygments_lexer": "ipython3",
   "version": "3.8.3-final"
  },
  "orig_nbformat": 2,
  "kernelspec": {
   "name": "python3",
   "display_name": "Python 3"
  }
 },
 "nbformat": 4,
 "nbformat_minor": 2,
 "cells": [
  {
   "cell_type": "code",
   "execution_count": 2,
   "metadata": {},
   "outputs": [],
   "source": [
    "import os, sys, json\n",
    "import logging as log\n",
    "from pathlib import Path\n",
    "from datetime import datetime\n",
    "from collections import defaultdict\n",
    "\n",
    "import numpy as np\n",
    "import pandas as pd"
   ]
  },
  {
   "cell_type": "code",
   "execution_count": 5,
   "metadata": {},
   "outputs": [
    {
     "output_type": "execute_result",
     "data": {
      "text/plain": [
       "                  bssid  rssi                   timestamp position      rp\n",
       "0     88:36:6c:1d:a5:2c    57  2020-12-08 01:49:31.550772       신관    7층엘베\n",
       "1     88:36:6c:1d:a3:dc    67  2020-12-08 01:49:31.550772       신관    7층엘베\n",
       "2     88:36:6c:1d:c2:94    83  2020-12-08 01:49:31.550772       신관    7층엘베\n",
       "3     88:36:6c:1d:bb:b8    65  2020-12-08 01:49:31.550772       신관    7층엘베\n",
       "4     00:08:5b:9a:53:81    80  2020-12-08 01:49:31.550772       신관    7층엘베\n",
       "...                 ...   ...                         ...      ...     ...\n",
       "1276  88:36:6c:1d:d7:6e    62  2020-12-08 01:43:45.811226       신관  751D창쪽\n",
       "1277  88:36:6c:1d:d7:6c    88  2020-12-08 01:43:45.811226       신관  751D창쪽\n",
       "1278  88:36:6c:1d:d7:6e    70  2020-12-08 01:43:59.631641       신관  751D창쪽\n",
       "1279  88:36:6c:1d:ae:8c    80  2020-12-08 01:43:59.631641       신관  751D창쪽\n",
       "1280  88:36:6c:1d:a5:14    60  2020-12-08 01:43:59.631641       신관  751D창쪽\n",
       "\n",
       "[1281 rows x 5 columns]"
      ],
      "text/html": "<div>\n<style scoped>\n    .dataframe tbody tr th:only-of-type {\n        vertical-align: middle;\n    }\n\n    .dataframe tbody tr th {\n        vertical-align: top;\n    }\n\n    .dataframe thead th {\n        text-align: right;\n    }\n</style>\n<table border=\"1\" class=\"dataframe\">\n  <thead>\n    <tr style=\"text-align: right;\">\n      <th></th>\n      <th>bssid</th>\n      <th>rssi</th>\n      <th>timestamp</th>\n      <th>position</th>\n      <th>rp</th>\n    </tr>\n  </thead>\n  <tbody>\n    <tr>\n      <th>0</th>\n      <td>88:36:6c:1d:a5:2c</td>\n      <td>57</td>\n      <td>2020-12-08 01:49:31.550772</td>\n      <td>신관</td>\n      <td>7층엘베</td>\n    </tr>\n    <tr>\n      <th>1</th>\n      <td>88:36:6c:1d:a3:dc</td>\n      <td>67</td>\n      <td>2020-12-08 01:49:31.550772</td>\n      <td>신관</td>\n      <td>7층엘베</td>\n    </tr>\n    <tr>\n      <th>2</th>\n      <td>88:36:6c:1d:c2:94</td>\n      <td>83</td>\n      <td>2020-12-08 01:49:31.550772</td>\n      <td>신관</td>\n      <td>7층엘베</td>\n    </tr>\n    <tr>\n      <th>3</th>\n      <td>88:36:6c:1d:bb:b8</td>\n      <td>65</td>\n      <td>2020-12-08 01:49:31.550772</td>\n      <td>신관</td>\n      <td>7층엘베</td>\n    </tr>\n    <tr>\n      <th>4</th>\n      <td>00:08:5b:9a:53:81</td>\n      <td>80</td>\n      <td>2020-12-08 01:49:31.550772</td>\n      <td>신관</td>\n      <td>7층엘베</td>\n    </tr>\n    <tr>\n      <th>...</th>\n      <td>...</td>\n      <td>...</td>\n      <td>...</td>\n      <td>...</td>\n      <td>...</td>\n    </tr>\n    <tr>\n      <th>1276</th>\n      <td>88:36:6c:1d:d7:6e</td>\n      <td>62</td>\n      <td>2020-12-08 01:43:45.811226</td>\n      <td>신관</td>\n      <td>751D창쪽</td>\n    </tr>\n    <tr>\n      <th>1277</th>\n      <td>88:36:6c:1d:d7:6c</td>\n      <td>88</td>\n      <td>2020-12-08 01:43:45.811226</td>\n      <td>신관</td>\n      <td>751D창쪽</td>\n    </tr>\n    <tr>\n      <th>1278</th>\n      <td>88:36:6c:1d:d7:6e</td>\n      <td>70</td>\n      <td>2020-12-08 01:43:59.631641</td>\n      <td>신관</td>\n      <td>751D창쪽</td>\n    </tr>\n    <tr>\n      <th>1279</th>\n      <td>88:36:6c:1d:ae:8c</td>\n      <td>80</td>\n      <td>2020-12-08 01:43:59.631641</td>\n      <td>신관</td>\n      <td>751D창쪽</td>\n    </tr>\n    <tr>\n      <th>1280</th>\n      <td>88:36:6c:1d:a5:14</td>\n      <td>60</td>\n      <td>2020-12-08 01:43:59.631641</td>\n      <td>신관</td>\n      <td>751D창쪽</td>\n    </tr>\n  </tbody>\n</table>\n<p>1281 rows × 5 columns</p>\n</div>"
     },
     "metadata": {},
     "execution_count": 5
    }
   ],
   "source": [
    "pos_name = input('enter position name : ')\n",
    "df_pos = pd.read_csv(Path('../wifi_data') / pos_name / 'wifi_all.csv', header=None)\n",
    "df_pos = df_pos.rename(columns={0:'bssid', 1:'rssi', 2:'timestamp', 3:'position', 4:'rp'})\n",
    "df_pos"
   ]
  },
  {
   "cell_type": "code",
   "execution_count": 3,
   "metadata": {},
   "outputs": [
    {
     "output_type": "stream",
     "name": "stdout",
     "text": [
      "train data generated for 신관 751D문쪽\n",
      "train data generated for 신관 751D창쪽\n",
      "train data generated for 신관 751세면대\n",
      "train data generated for 신관 751앞계단\n",
      "train data generated for 신관 751앞복도\n",
      "train data generated for 신관 7층엘베\n",
      "train data generated for 신관 7층휴게실L\n",
      "train data generated for 신관 7층휴게실R\n"
     ]
    }
   ],
   "source": [
    "cur_time = datetime.now().strftime(\"%Y%m%d-%H%M%S\")\n",
    "\n",
    "for rp_name, df_rp in df_pos.groupby('rp'):\n",
    "    rp_path = Path('../train_data') / pos_name / rp_name\n",
    "    rp_path.mkdir(parents=True, exist_ok=True)\n",
    "\n",
    "    dict_rp = defaultdict(lambda : defaultdict(int).fromkeys(df_rp['bssid'], 0))\n",
    "    for idx, wifi in df_rp.iterrows():\n",
    "        dict_rp[wifi['timestamp']][wifi['bssid']] = wifi['rssi']\n",
    "        dict_rp[wifi['timestamp']]['rp'] = wifi['rp']\n",
    "\n",
    "    train_data = pd.DataFrame.from_dict(dict_rp).transpose()\n",
    "    train_data.to_csv(rp_path / f'{cur_time}.csv', index=False, encoding=\"utf-8\")\n",
    "    print(f'train data generated for {pos_name} {rp_name}')"
   ]
  },
  {
   "cell_type": "code",
   "execution_count": null,
   "metadata": {},
   "outputs": [],
   "source": []
  }
 ]
}