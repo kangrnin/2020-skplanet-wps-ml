{
 "metadata": {
  "language_info": {
   "codemirror_mode": {
    "name": "ipython",
    "version": 3
   },
   "file_extension": ".py",
   "mimetype": "text/x-python",
   "name": "python",
   "nbconvert_exporter": "python",
   "pygments_lexer": "ipython3",
   "version": "3.8.3-final"
  },
  "orig_nbformat": 2,
  "kernelspec": {
   "name": "python3",
   "display_name": "Python 3"
  }
 },
 "nbformat": 4,
 "nbformat_minor": 2,
 "cells": [
  {
   "cell_type": "code",
   "execution_count": 1,
   "metadata": {},
   "outputs": [],
   "source": [
    "import subprocess\n",
    "import time\n",
    "import datetime\n",
    "import pandas as pd\n",
    "from pathlib import Path\n",
    "\n",
    "def get_wifis():\n",
    "    subprocess.run(\n",
    "        ['netsh', 'interface', 'set', 'interface', 'name=\"Wi-Fi\"', 'admin=disabled'],\n",
    "        capture_output=True)\n",
    "    subprocess.run(['netsh', 'interface', 'set', 'interface', 'name=\"Wi-Fi\"', 'admin=enabled'],\n",
    "        capture_output=True)\n",
    "\n",
    "    time.sleep(1)\n",
    "    output = subprocess.run(\n",
    "        ['netsh', 'wlan', 'show', 'network', 'mode=Bssid'],\n",
    "        capture_output=True, text=True, encoding='ISO-8859-1').stdout\n",
    "\n",
    "    results = output.split('\\n\\n')[1:-1]\n",
    "\n",
    "    timestamp = datetime.datetime.now()\n",
    "    wifis = []\n",
    "    for result in results:\n",
    "        lines = result.split('\\n')\n",
    "\n",
    "        for i in range(len(lines)):\n",
    "            if lines[i].split()[0] == 'BSSID':\n",
    "                bssid = lines[i].split()[-1]\n",
    "                rssi = lines[i+1].split()[-1][:-1]\n",
    "                wifis.append({'bssid':bssid, 'rssi':rssi, 'timestamp':timestamp})\n",
    "\n",
    "    return wifis"
   ]
  },
  {
   "cell_type": "code",
   "execution_count": 2,
   "metadata": {},
   "outputs": [
    {
     "output_type": "stream",
     "name": "stdout",
     "text": [
      "-----------------------------------------\n",
      "scan #1 total bssid cnt : 3\n",
      "3 new bssids : \n",
      "~1d:ae:8c, ~1d:db:e0, ~1d:d7:6e\n",
      "-----------------------------------------\n",
      "scan #2 total bssid cnt : 3\n",
      "0 new bssids : \n",
      "\n",
      "-----------------------------------------\n",
      "scan #3 total bssid cnt : 3\n",
      "0 new bssids : \n",
      "\n",
      "-----------------------------------------\n",
      "scan #4 total bssid cnt : 3\n",
      "0 new bssids : \n",
      "\n",
      "scan complete. bssid cnt : 3\n"
     ]
    }
   ],
   "source": [
    "position, rp = input('type \"position rp\"').split()\n",
    "\n",
    "data_path = Path('../wifi_data') / position\n",
    "data_path.mkdir(parents=True, exist_ok=True)\n",
    "\n",
    "wifi_list = list()\n",
    "bssid_set = set()\n",
    "overlap_cnt = 0\n",
    "scan_cnt = 0\n",
    "\n",
    "while overlap_cnt < 3:\n",
    "    scan_wifis = get_wifis()\n",
    "\n",
    "    new_bssid = [ w['bssid'] for w in scan_wifis if w['bssid'] not in bssid_set ]\n",
    "    bssid_set.update(new_bssid)\n",
    "    if new_bssid:\n",
    "        wifi_list += scan_wifis\n",
    "    else:\n",
    "        overlap_cnt += 1\n",
    "\n",
    "    scan_cnt += 1\n",
    "\n",
    "    print('-----------------------------------------')\n",
    "    print(f'scan #{ scan_cnt } total bssid cnt : {len(scan_wifis)}')\n",
    "    print(f'{ len(new_bssid) } new bssids : ')\n",
    "    print(', '.join([f'~{ b[-8:] }' for b in new_bssid]))\n",
    "\n",
    "print('scan complete. bssid cnt : '+str(len(bssid_set)))\n",
    "\n",
    "df = pd.DataFrame(wifi_list)\n",
    "df['position'] = position\n",
    "df['rp'] = rp\n",
    "\n",
    "df.to_csv(data_path/(f'{ rp }.csv'), mode='a', index=False)\n",
    "df.to_csv(data_path/'wifi_all.csv', mode='a', index=False)"
   ]
  }
 ]
}