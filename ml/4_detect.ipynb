{
 "metadata": {
  "language_info": {
   "codemirror_mode": {
    "name": "ipython",
    "version": 3
   },
   "file_extension": ".py",
   "mimetype": "text/x-python",
   "name": "python",
   "nbconvert_exporter": "python",
   "pygments_lexer": "ipython3",
   "version": "3.8.5-final"
  },
  "orig_nbformat": 2,
  "kernelspec": {
   "name": "python3",
   "display_name": "Python 3.8.5 64-bit ('skplanet-wps': conda)",
   "metadata": {
    "interpreter": {
     "hash": "971d31eb3686561c5796e54c184f57aef6128f80b9cb4f1a8e2b2d16ed85abc5"
    }
   }
  }
 },
 "nbformat": 4,
 "nbformat_minor": 2,
 "cells": [
  {
   "cell_type": "code",
   "execution_count": 1,
   "metadata": {},
   "outputs": [],
   "source": [
    "import subprocess\n",
    "import time\n",
    "import datetime\n",
    "import pandas as pd\n",
    "from pathlib import Path\n",
    "\n",
    "def get_wifis():\n",
    "    subprocess.run(\n",
    "        ['netsh', 'interface', 'set', 'interface', 'name=\"Wi-Fi\"', 'admin=disabled'],\n",
    "        capture_output=True)\n",
    "    subprocess.run(['netsh', 'interface', 'set', 'interface', 'name=\"Wi-Fi\"', 'admin=enabled'],\n",
    "        capture_output=True)\n",
    "\n",
    "    time.sleep(3)\n",
    "    output = subprocess.run(\n",
    "        ['netsh', 'wlan', 'show', 'network', 'mode=Bssid'],\n",
    "        capture_output=True, text=True, encoding='ISO-8859-1').stdout\n",
    "\n",
    "    results = output.split('\\n\\n')[1:-1]\n",
    "\n",
    "    timestamp = datetime.datetime.now()\n",
    "    wifis = []\n",
    "    for result in results:\n",
    "        lines = result.split('\\n')\n",
    "\n",
    "        for i in range(len(lines)):\n",
    "            if lines[i].split()[0] == 'BSSID':\n",
    "                bssid = lines[i].split()[-1]\n",
    "                rssi = int(lines[i+1].split()[-1][:-1])\n",
    "                if rssi > 50:\n",
    "                    wifis.append({'bssid':bssid, 'rssi':rssi, 'timestamp':timestamp})\n",
    "\n",
    "    return wifis"
   ]
  },
  {
   "cell_type": "code",
   "execution_count": 2,
   "metadata": {},
   "outputs": [],
   "source": [
    "import numpy as np\n",
    "import pandas as pd\n",
    "import matplotlib.pyplot as plt\n",
    "import joblib\n",
    "from collections import defaultdict\n",
    "from sklearn.preprocessing import LabelEncoder"
   ]
  },
  {
   "cell_type": "code",
   "execution_count": 3,
   "metadata": {},
   "outputs": [],
   "source": [
    "position = input('enter position : ')\n",
    "model_path = Path('../ml_model') / position\n",
    "\n",
    "model_rdf = joblib.load(model_path / 'model_rdf.plk')\n",
    "model_svm = joblib.load(model_path / 'model_svm.plk')"
   ]
  },
  {
   "cell_type": "code",
   "execution_count": 4,
   "metadata": {},
   "outputs": [
    {
     "output_type": "execute_result",
     "data": {
      "text/plain": [
       "array(['88:36:6c:1d:d7:6e', '88:36:6c:1d:d7:6c', '88:36:6c:1d:ae:8c',\n",
       "       '88:36:6c:1d:db:e0', '88:36:6c:1d:a7:e4', '88:36:6c:1d:a5:14',\n",
       "       '88:36:6c:1d:c2:d0', '88:36:6c:1d:ae:8e', '88:36:6c:1d:a5:16',\n",
       "       '88:36:6c:1d:d8:6c', '88:36:6c:1d:d0:fc', '88:36:6c:1d:b0:d8',\n",
       "       '88:36:6c:05:6a:e4', '88:36:6c:1d:a5:bc', '88:36:6c:1d:c6:f4',\n",
       "       '88:36:6c:1d:ab:f8', '88:36:6c:1d:c5:88', '88:36:6c:1d:9f:30',\n",
       "       '88:36:6c:1d:a1:18', '88:36:6c:1d:a6:20', '88:36:6c:1d:d8:6e',\n",
       "       '88:36:6c:1d:d6:8c', '88:36:6c:1d:d6:0c', '88:36:6c:1d:dc:0c',\n",
       "       '88:36:6c:1d:cf:10', '88:36:6c:1d:a5:be', '88:36:6c:1d:c0:6c',\n",
       "       '90:9f:33:b2:18:b0', '88:36:6c:1d:9e:40', '88:36:6c:1d:d9:10',\n",
       "       '88:36:6c:1d:d7:bc', '88:36:6c:1d:d7:4c', '88:36:6c:1d:d7:94',\n",
       "       '70:5d:cc:d0:e8:ee', '0a:30:0d:d2:99:a6', '06:30:0d:d2:99:96',\n",
       "       '0a:30:0d:d2:99:a1', '06:30:0d:d2:99:91', '00:30:0d:d2:99:a0',\n",
       "       '00:30:0d:d2:99:90', '88:36:6c:1d:cb:3c', '88:36:6c:1d:c8:48',\n",
       "       '88:36:6c:1d:ba:5c', '88:36:6c:1d:d7:30', '88:36:6c:1d:e5:d8',\n",
       "       '88:36:6c:1d:c2:c8', '88:36:6c:1d:be:c0', '88:36:6c:1d:d5:7c',\n",
       "       '88:36:6c:1d:c9:1c', '88:36:6c:1d:b0:38', '88:36:6c:1d:ad:dc',\n",
       "       '88:36:6c:1d:a5:2c', '88:36:6c:1d:a3:dc', '88:36:6c:1d:c2:94',\n",
       "       '88:36:6c:1d:bb:b8', '00:08:5b:9a:53:81', '00:08:5b:9a:53:80',\n",
       "       '08:5d:dd:1d:24:61', '88:36:6c:1d:d2:24', '88:36:6c:1d:df:94',\n",
       "       '00:08:5b:64:20:d1', '00:08:5b:60:10:69', '00:08:5b:64:20:d2',\n",
       "       '88:36:6c:1d:aa:ac', '88:36:6c:1d:de:b4', '88:36:6c:1d:d1:a4',\n",
       "       '08:5d:dd:1d:24:62', '88:36:6c:1d:b3:50', '88:36:6c:1d:c8:40',\n",
       "       '88:36:6c:1d:e0:f4', '88:36:6c:1d:c1:8c', '88:36:6c:1d:c6:98',\n",
       "       '88:36:6c:1d:cc:8c', '88:36:6c:1d:d8:54', '88:36:6c:1d:cd:54',\n",
       "       '00:08:5b:60:10:68', '88:36:6c:1d:a7:98', '70:5d:cc:b3:73:02',\n",
       "       '88:36:6c:1d:c7:70', '70:5d:cc:86:1a:ae', '18:c5:01:8e:23:d6',\n",
       "       '88:36:6c:1d:a4:f8', '88:3c:1c:1b:b8:e0', '70:5d:cc:40:69:60',\n",
       "       '88:3c:1c:47:cb:de', '08:5d:dd:f3:78:9b', '88:36:6c:1d:a2:10',\n",
       "       '08:5d:dd:d3:36:cc', '88:36:6c:1d:bd:08', '00:08:5b:99:af:b8',\n",
       "       '06:30:0d:b0:c8:d6', '00:08:5b:90:5d:78', '88:36:6c:1d:d2:bc',\n",
       "       'e8:65:d4:b9:24:e0', '08:5d:dd:1d:24:d2', '42:23:aa:d5:9c:32',\n",
       "       '00:08:5b:90:5d:79', '88:36:6c:1d:b6:48', '00:23:aa:6a:22:cd',\n",
       "       '88:36:6c:1d:b8:3c', '88:36:6c:1d:da:64', '00:08:5b:90:e8:c1',\n",
       "       '88:36:6c:9a:5a:42', '0a:5d:dd:f3:78:9b', '88:36:6c:1d:c5:8c',\n",
       "       '00:08:5b:8a:25:30', '02:23:aa:6a:22:cd', '02:27:1c:8c:86:aa',\n",
       "       '88:36:6c:1b:ad:4a', '08:5d:dd:03:c7:bb', '08:5d:dd:e9:25:49',\n",
       "       '88:36:6c:1d:da:40', '18:c5:01:d4:4d:5e', '88:36:6c:1d:bb:88',\n",
       "       '88:36:6c:1d:d7:b4', '88:36:6c:1d:c7:18', '88:36:6c:1d:b1:bc',\n",
       "       '00:08:5b:68:91:69', '12:23:aa:d5:9c:32', '00:23:aa:d5:9c:32',\n",
       "       '88:36:6c:1d:9d:b4', '88:36:6c:1d:c2:96', '88:36:6c:1d:da:1c',\n",
       "       '88:36:6c:1d:b0:44', '88:36:6c:1d:aa:9c', '18:c5:01:35:67:7a',\n",
       "       '00:07:89:82:bb:ac', '02:27:1c:b2:dc:1a', '70:5d:cc:93:d7:d4',\n",
       "       '88:36:6c:1d:bb:44', '88:36:6c:1d:e1:14', '00:27:1c:8c:86:aa',\n",
       "       '08:5d:dd:22:61:58', '00:30:0d:16:d2:70', '88:3c:1c:ca:8e:43',\n",
       "       '8a:3c:1c:ca:8e:43', '88:36:6c:1d:d5:ec', '88:36:6c:1d:d0:d0',\n",
       "       '88:36:6c:1d:bf:bc', '00:27:1c:93:da:60', '88:36:6c:1d:a2:2c',\n",
       "       '00:08:5b:8a:25:31', '88:36:6c:1d:d0:ec', '88:36:6c:1d:dc:64',\n",
       "       '88:36:6c:1d:bb:7c', '88:36:6c:1d:da:b4', '88:36:6c:a1:3f:0a',\n",
       "       '88:36:6c:1d:d6:9c', '88:36:6c:1d:9d:cc', '88:36:6c:1d:bb:94',\n",
       "       '60:29:d5:1a:13:45', '88:36:6c:1d:d8:c0', '02:30:0d:16:d2:70',\n",
       "       '88:36:6c:1d:da:a8', '88:36:6c:1d:c2:68', '88:36:6c:1d:9e:cc',\n",
       "       '0a:5d:dd:03:c7:bb', '88:36:6c:1d:a4:6c', '88:36:6c:1d:da:74',\n",
       "       '88:36:6c:1d:d9:b4', '00:72:63:24:65:0e', '88:36:6c:1d:ca:18',\n",
       "       '88:36:6c:1d:d7:90', '0a:30:0d:d0:5d:eb', '0a:30:0d:d2:32:0b',\n",
       "       '0a:30:0d:d0:5d:ea', '0a:30:0d:d0:5d:e6', '06:30:0d:d2:31:f6',\n",
       "       '06:30:0d:d0:5d:d6', '06:30:0d:d0:73:76', '0a:30:0d:d0:5d:e1',\n",
       "       '06:30:0d:d2:31:f1', '06:30:0d:d2:99:31', '06:30:0d:d0:5d:d1',\n",
       "       '00:30:0d:d0:5d:e0', '00:30:0d:d2:32:00', '00:30:0d:d2:31:f0',\n",
       "       '00:30:0d:d2:99:30', '00:30:0d:d0:5d:d0', '88:36:6c:1d:cb:3e',\n",
       "       '88:36:6c:1d:d5:7e', '88:36:6c:1d:d8:38', '88:36:6c:1d:e0:00',\n",
       "       '00:30:0d:5d:cb:dc', '06:30:0d:d0:73:72', '0a:30:0d:d2:32:0a',\n",
       "       '0a:30:0d:d2:32:06', '06:30:0d:d2:99:36', '0a:30:0d:d2:32:01',\n",
       "       '06:30:0d:d0:73:71', '00:30:0d:d0:73:70', '88:36:6c:1d:d7:e4',\n",
       "       '88:36:6c:1d:e5:24', '88:36:6c:1d:e0:fc', '88:36:6c:1d:ba:4c',\n",
       "       '88:36:6c:1d:a1:c8', '88:36:6c:1d:d6:84', '88:36:6c:1d:c8:10',\n",
       "       '06:30:0d:5d:cb:dc', '88:36:6c:1d:c9:1e', '88:36:6c:1d:9e:44',\n",
       "       '88:36:6c:1d:da:f8', '88:36:6c:1d:d1:70', '88:36:6c:1d:e0:24',\n",
       "       '88:36:6c:1d:a1:d0', '88:36:6c:1d:cc:b4', '88:36:6c:1d:d7:e6',\n",
       "       '88:36:6c:1d:cf:c4'], dtype='<U17')"
      ]
     },
     "metadata": {},
     "execution_count": 4
    }
   ],
   "source": [
    "bssids = np.load(model_path / 'features.npy')\n",
    "bssids"
   ]
  },
  {
   "cell_type": "code",
   "execution_count": 5,
   "metadata": {},
   "outputs": [
    {
     "output_type": "execute_result",
     "data": {
      "text/plain": [
       "array(['751D문쪽', '751D창쪽', '751세면대', '751앞계단', '751앞복도', '7층엘베', '7층휴게실L',\n",
       "       '7층휴게실R'], dtype=object)"
      ]
     },
     "metadata": {},
     "execution_count": 5
    }
   ],
   "source": [
    "rp_encoder = LabelEncoder()\n",
    "rp_encoder.classes_ = np.load(model_path / 'classes.npy', allow_pickle=True)\n",
    "rp_encoder.classes_"
   ]
  },
  {
   "cell_type": "code",
   "execution_count": 6,
   "metadata": {},
   "outputs": [
    {
     "output_type": "execute_result",
     "data": {
      "text/plain": [
       "array([78,  0, 80, 80,  0,  0,  0,  0,  0,  0,  0,  0,  0,  0,  0,  0,  0,\n",
       "        0,  0,  0,  0,  0,  0,  0,  0,  0,  0,  0,  0,  0,  0,  0,  0,  0,\n",
       "        0,  0,  0,  0,  0,  0,  0,  0,  0,  0,  0,  0,  0,  0,  0,  0,  0,\n",
       "        0,  0,  0,  0,  0,  0,  0,  0,  0,  0,  0,  0,  0,  0,  0,  0,  0,\n",
       "        0,  0,  0,  0,  0,  0,  0,  0,  0,  0,  0,  0,  0,  0,  0,  0,  0,\n",
       "        0,  0,  0,  0,  0,  0,  0,  0,  0,  0,  0,  0,  0,  0,  0,  0,  0,\n",
       "        0,  0,  0,  0,  0,  0,  0,  0,  0,  0,  0,  0,  0,  0,  0,  0,  0,\n",
       "        0,  0,  0,  0,  0,  0,  0,  0,  0,  0,  0,  0,  0,  0,  0,  0,  0,\n",
       "        0,  0,  0,  0,  0,  0,  0,  0,  0,  0,  0,  0,  0,  0,  0,  0,  0,\n",
       "        0,  0,  0,  0,  0,  0,  0,  0,  0,  0,  0,  0,  0,  0,  0,  0,  0,\n",
       "        0,  0,  0,  0,  0,  0,  0,  0,  0,  0,  0,  0,  0,  0,  0,  0,  0,\n",
       "        0,  0,  0,  0,  0,  0,  0,  0,  0,  0,  0,  0,  0,  0,  0,  0,  0,\n",
       "        0,  0,  0,  0])"
      ]
     },
     "metadata": {},
     "execution_count": 6
    }
   ],
   "source": [
    "user_wifis = get_wifis()\n",
    "\n",
    "wifi_dict = defaultdict.fromkeys(bssids, 0)\n",
    "for user_wifi in user_wifis:\n",
    "    if user_wifi['bssid'] in wifi_dict:\n",
    "        wifi_dict[user_wifi['bssid']] = user_wifi['rssi']\n",
    "        \n",
    "np.asarray([rssi for bssid, rssi in wifi_dict.items()])"
   ]
  },
  {
   "cell_type": "code",
   "execution_count": 7,
   "metadata": {},
   "outputs": [
    {
     "output_type": "execute_result",
     "data": {
      "text/plain": [
       "   88:36:6c:1d:d7:6e  88:36:6c:1d:d7:6c  88:36:6c:1d:ae:8c  88:36:6c:1d:db:e0  \\\n",
       "0                 78                  0                 80                 80   \n",
       "\n",
       "   88:36:6c:1d:a7:e4  88:36:6c:1d:a5:14  88:36:6c:1d:c2:d0  88:36:6c:1d:ae:8e  \\\n",
       "0                  0                  0                  0                  0   \n",
       "\n",
       "   88:36:6c:1d:a5:16  88:36:6c:1d:d8:6c  ...  06:30:0d:5d:cb:dc  \\\n",
       "0                  0                  0  ...                  0   \n",
       "\n",
       "   88:36:6c:1d:c9:1e  88:36:6c:1d:9e:44  88:36:6c:1d:da:f8  88:36:6c:1d:d1:70  \\\n",
       "0                  0                  0                  0                  0   \n",
       "\n",
       "   88:36:6c:1d:e0:24  88:36:6c:1d:a1:d0  88:36:6c:1d:cc:b4  88:36:6c:1d:d7:e6  \\\n",
       "0                  0                  0                  0                  0   \n",
       "\n",
       "   88:36:6c:1d:cf:c4  \n",
       "0                  0  \n",
       "\n",
       "[1 rows x 208 columns]"
      ],
      "text/html": "<div>\n<style scoped>\n    .dataframe tbody tr th:only-of-type {\n        vertical-align: middle;\n    }\n\n    .dataframe tbody tr th {\n        vertical-align: top;\n    }\n\n    .dataframe thead th {\n        text-align: right;\n    }\n</style>\n<table border=\"1\" class=\"dataframe\">\n  <thead>\n    <tr style=\"text-align: right;\">\n      <th></th>\n      <th>88:36:6c:1d:d7:6e</th>\n      <th>88:36:6c:1d:d7:6c</th>\n      <th>88:36:6c:1d:ae:8c</th>\n      <th>88:36:6c:1d:db:e0</th>\n      <th>88:36:6c:1d:a7:e4</th>\n      <th>88:36:6c:1d:a5:14</th>\n      <th>88:36:6c:1d:c2:d0</th>\n      <th>88:36:6c:1d:ae:8e</th>\n      <th>88:36:6c:1d:a5:16</th>\n      <th>88:36:6c:1d:d8:6c</th>\n      <th>...</th>\n      <th>06:30:0d:5d:cb:dc</th>\n      <th>88:36:6c:1d:c9:1e</th>\n      <th>88:36:6c:1d:9e:44</th>\n      <th>88:36:6c:1d:da:f8</th>\n      <th>88:36:6c:1d:d1:70</th>\n      <th>88:36:6c:1d:e0:24</th>\n      <th>88:36:6c:1d:a1:d0</th>\n      <th>88:36:6c:1d:cc:b4</th>\n      <th>88:36:6c:1d:d7:e6</th>\n      <th>88:36:6c:1d:cf:c4</th>\n    </tr>\n  </thead>\n  <tbody>\n    <tr>\n      <th>0</th>\n      <td>78</td>\n      <td>0</td>\n      <td>80</td>\n      <td>80</td>\n      <td>0</td>\n      <td>0</td>\n      <td>0</td>\n      <td>0</td>\n      <td>0</td>\n      <td>0</td>\n      <td>...</td>\n      <td>0</td>\n      <td>0</td>\n      <td>0</td>\n      <td>0</td>\n      <td>0</td>\n      <td>0</td>\n      <td>0</td>\n      <td>0</td>\n      <td>0</td>\n      <td>0</td>\n    </tr>\n  </tbody>\n</table>\n<p>1 rows × 208 columns</p>\n</div>"
     },
     "metadata": {},
     "execution_count": 7
    }
   ],
   "source": [
    "input_df = pd.DataFrame.from_dict([dict(wifi_dict)])\n",
    "input_df"
   ]
  },
  {
   "cell_type": "code",
   "execution_count": 8,
   "metadata": {},
   "outputs": [
    {
     "output_type": "stream",
     "name": "stdout",
     "text": [
      "rdf : 751D문쪽, svm : 751세면대\n"
     ]
    }
   ],
   "source": [
    "\n",
    "pred_rdf = model_rdf.predict(input_df)\n",
    "pred_svm = model_svm.predict(input_df)\n",
    "\n",
    "rdf_rp = rp_encoder.inverse_transform(pred_rdf)[0]\n",
    "svm_rp = rp_encoder.inverse_transform(pred_svm)[0]\n",
    "\n",
    "print(f'rdf : {rdf_rp}, svm : {svm_rp}')"
   ]
  },
  {
   "cell_type": "code",
   "execution_count": 9,
   "metadata": {},
   "outputs": [
    {
     "output_type": "execute_result",
     "data": {
      "text/plain": [
       "[(0.53, '751D문쪽'),\n",
       " (0.28, '751D창쪽'),\n",
       " (0.14, '751세면대'),\n",
       " (0.02, '751앞복도'),\n",
       " (0.02, '7층엘베'),\n",
       " (0.01, '751앞계단'),\n",
       " (0.0, '7층휴게실L'),\n",
       " (0.0, '7층휴게실R')]"
      ]
     },
     "metadata": {},
     "execution_count": 9
    }
   ],
   "source": [
    "rdf_pred = model_rdf.predict_proba(input_df)[0]\n",
    "svm_pred = model_svm.predict_proba(input_df)[0]\n",
    "\n",
    "sorted(list(zip(rdf_pred, rp_encoder.classes_)), key=lambda p:p[0], reverse=True)"
   ]
  },
  {
   "cell_type": "code",
   "execution_count": 10,
   "metadata": {},
   "outputs": [
    {
     "output_type": "execute_result",
     "data": {
      "text/plain": [
       "[(0.2203492783225278, '751세면대'),\n",
       " (0.19663717624951005, '751앞복도'),\n",
       " (0.1641367290942611, '751D문쪽'),\n",
       " (0.15105255639269502, '751D창쪽'),\n",
       " (0.12405510507552882, '7층엘베'),\n",
       " (0.0638900849926388, '751앞계단'),\n",
       " (0.04063521578577175, '7층휴게실L'),\n",
       " (0.03924385408706691, '7층휴게실R')]"
      ]
     },
     "metadata": {},
     "execution_count": 10
    }
   ],
   "source": [
    "sorted(list(zip(svm_pred, rp_encoder.classes_)), key=lambda p:p[0], reverse=True)"
   ]
  },
  {
   "cell_type": "code",
   "execution_count": 11,
   "metadata": {},
   "outputs": [
    {
     "output_type": "execute_result",
     "data": {
      "text/plain": [
       "[(0.3470683645471306, '751D문쪽'),\n",
       " (0.2155262781963475, '751D창쪽'),\n",
       " (0.18017463916126392, '751세면대'),\n",
       " (0.10831858812475502, '751앞복도'),\n",
       " (0.07202755253776441, '7층엘베'),\n",
       " (0.0369450424963194, '751앞계단'),\n",
       " (0.020317607892885874, '7층휴게실L'),\n",
       " (0.019621927043533455, '7층휴게실R')]"
      ]
     },
     "metadata": {},
     "execution_count": 11
    }
   ],
   "source": [
    "ave_pred = [(p1+p2)/2 for p1,p2 in list(zip(rdf_pred, svm_pred))]\n",
    "ave_pred_rp = list(zip(ave_pred, rp_encoder.classes_))\n",
    "ave_pred_rp_sorted = sorted(ave_pred_rp, key=lambda p: p[0], reverse=True)\n",
    "ave_pred_rp_sorted"
   ]
  },
  {
   "cell_type": "code",
   "execution_count": null,
   "metadata": {},
   "outputs": [],
   "source": []
  },
  {
   "cell_type": "code",
   "execution_count": 12,
   "metadata": {},
   "outputs": [
    {
     "output_type": "execute_result",
     "data": {
      "text/plain": [
       "'0.23.2'"
      ]
     },
     "metadata": {},
     "execution_count": 12
    }
   ],
   "source": [
    "import sklearn\n",
    "sklearn.__version__"
   ]
  },
  {
   "cell_type": "code",
   "execution_count": 13,
   "metadata": {},
   "outputs": [
    {
     "output_type": "execute_result",
     "data": {
      "text/plain": [
       "'0.16.0'"
      ]
     },
     "metadata": {},
     "execution_count": 13
    }
   ],
   "source": [
    "import joblib\n",
    "joblib.__version__"
   ]
  },
  {
   "cell_type": "code",
   "execution_count": null,
   "metadata": {},
   "outputs": [],
   "source": []
  }
 ]
}