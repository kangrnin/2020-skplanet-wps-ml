{
 "metadata": {
  "language_info": {
   "codemirror_mode": {
    "name": "ipython",
    "version": 3
   },
   "file_extension": ".py",
   "mimetype": "text/x-python",
   "name": "python",
   "nbconvert_exporter": "python",
   "pygments_lexer": "ipython3",
   "version": 3
  },
  "orig_nbformat": 2
 },
 "nbformat": 4,
 "nbformat_minor": 2,
 "cells": [
  {
   "cell_type": "code",
   "execution_count": null,
   "metadata": {},
   "outputs": [],
   "source": [
    "import numpy as np\n",
    "import pandas as pd\n",
    "import matplotlib.pyplot as plt\n",
    "import joblib\n",
    "from wifi_scan_bssid import get_wifis\n",
    "from collections import defaultdict\n",
    "\n",
    "model = joblib.load('../ml_data/model_randomforest.plk')\n",
    "wifi_df = joblib.load('../ml_data/input_dataframe.plk')\n",
    "\n",
    "wifis = get_wifis()\n",
    "\n",
    "wifi_dict = defaultdict.fromkeys(wifi_df.columns, 0)\n",
    "for wifi in wifis:\n",
    "    if wifi['bssid'] in wifi_dict:\n",
    "        wifi_dict[wifi['bssid']] = int(wifi['signal'][:-1])\n",
    "\n",
    "print('current location : '+str(model.predict(wifi_dict)[0]))"
   ]
  }
 ]
}