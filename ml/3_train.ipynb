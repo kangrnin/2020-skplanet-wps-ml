{
 "metadata": {
  "language_info": {
   "codemirror_mode": {
    "name": "ipython",
    "version": 3
   },
   "file_extension": ".py",
   "mimetype": "text/x-python",
   "name": "python",
   "nbconvert_exporter": "python",
   "pygments_lexer": "ipython3",
   "version": "3.8.3-final"
  },
  "orig_nbformat": 2,
  "kernelspec": {
   "name": "python3",
   "display_name": "Python 3"
  }
 },
 "nbformat": 4,
 "nbformat_minor": 2,
 "cells": [
  {
   "cell_type": "code",
   "execution_count": 1,
   "metadata": {},
   "outputs": [],
   "source": [
    "import os, sys, json\n",
    "from pathlib import Path\n",
    "from datetime import datetime\n",
    "from collections import defaultdict\n",
    "\n",
    "import numpy as np\n",
    "import pandas as pd\n",
    "from sklearn.preprocessing import LabelEncoder\n",
    "from sklearn.model_selection import KFold\n",
    "from sklearn.ensemble import RandomForestClassifier\n",
    "from sklearn import svm\n",
    "from sklearn.metrics import accuracy_score\n",
    "import joblib"
   ]
  },
  {
   "cell_type": "code",
   "execution_count": 2,
   "metadata": {},
   "outputs": [],
   "source": [
    "pos_name = input('enter position name : ')\n",
    "\n",
    "data_path = Path('../train_data') / pos_name\n",
    "model_path = Path('../ml_model') / pos_name\n",
    "data_path.mkdir(parents=True, exist_ok=True)\n",
    "model_path.mkdir(parents=True, exist_ok=True)"
   ]
  },
  {
   "cell_type": "code",
   "execution_count": 3,
   "metadata": {},
   "outputs": [
    {
     "output_type": "execute_result",
     "data": {
      "text/plain": [
       "    88:36:6c:1d:d7:6e  88:36:6c:1d:d7:6c  88:36:6c:1d:ae:8c  \\\n",
       "0                70.0               94.0               84.0   \n",
       "1                84.0               90.0               72.0   \n",
       "2                80.0               92.0               85.0   \n",
       "3                60.0                0.0                0.0   \n",
       "4                62.0               88.0                0.0   \n",
       "..                ...                ...                ...   \n",
       "69                0.0                0.0                0.0   \n",
       "70                0.0                0.0                0.0   \n",
       "71                0.0                0.0                0.0   \n",
       "72                0.0                0.0                0.0   \n",
       "73                0.0                0.0                0.0   \n",
       "\n",
       "    88:36:6c:1d:db:e0  88:36:6c:1d:a7:e4  88:36:6c:1d:a5:14  \\\n",
       "0                83.0                0.0                0.0   \n",
       "1                83.0                0.0                0.0   \n",
       "2                60.0               57.0                0.0   \n",
       "3                70.0                0.0               70.0   \n",
       "4                 0.0                0.0                0.0   \n",
       "..                ...                ...                ...   \n",
       "69                0.0                0.0                0.0   \n",
       "70                0.0                0.0                0.0   \n",
       "71                0.0                0.0                0.0   \n",
       "72                0.0                0.0                0.0   \n",
       "73                0.0                0.0                0.0   \n",
       "\n",
       "    88:36:6c:1d:c2:d0  88:36:6c:1d:ae:8e  88:36:6c:1d:a5:16  \\\n",
       "0                 0.0                0.0                0.0   \n",
       "1                 0.0                0.0                0.0   \n",
       "2                 0.0                0.0                0.0   \n",
       "3                 0.0                0.0                0.0   \n",
       "4                 0.0                0.0                0.0   \n",
       "..                ...                ...                ...   \n",
       "69                0.0                0.0                0.0   \n",
       "70                0.0                0.0                0.0   \n",
       "71                0.0                0.0                0.0   \n",
       "72                0.0                0.0                0.0   \n",
       "73                0.0                0.0                0.0   \n",
       "\n",
       "    88:36:6c:1d:d8:6c  ...  88:36:6c:1d:c9:1e  88:36:6c:1d:9e:44  \\\n",
       "0                 0.0  ...                0.0                0.0   \n",
       "1                 0.0  ...                0.0                0.0   \n",
       "2                 0.0  ...                0.0                0.0   \n",
       "3                 0.0  ...                0.0                0.0   \n",
       "4                 0.0  ...                0.0                0.0   \n",
       "..                ...  ...                ...                ...   \n",
       "69                0.0  ...                0.0                0.0   \n",
       "70                0.0  ...                0.0                0.0   \n",
       "71                0.0  ...                0.0                0.0   \n",
       "72                0.0  ...                0.0                0.0   \n",
       "73                0.0  ...                0.0                0.0   \n",
       "\n",
       "    88:36:6c:1d:da:f8  88:36:6c:1d:d1:70  88:36:6c:1d:e0:24  \\\n",
       "0                 0.0                0.0                0.0   \n",
       "1                 0.0                0.0                0.0   \n",
       "2                 0.0                0.0                0.0   \n",
       "3                 0.0                0.0                0.0   \n",
       "4                 0.0                0.0                0.0   \n",
       "..                ...                ...                ...   \n",
       "69                0.0               65.0                0.0   \n",
       "70                0.0               62.0                0.0   \n",
       "71                0.0                0.0                0.0   \n",
       "72                0.0               67.0                0.0   \n",
       "73                0.0               65.0                0.0   \n",
       "\n",
       "    88:36:6c:1d:a1:d0  88:36:6c:1d:cc:b4  88:36:6c:1d:d7:e6  \\\n",
       "0                 0.0                0.0                0.0   \n",
       "1                 0.0                0.0                0.0   \n",
       "2                 0.0                0.0                0.0   \n",
       "3                 0.0                0.0                0.0   \n",
       "4                 0.0                0.0                0.0   \n",
       "..                ...                ...                ...   \n",
       "69                0.0                0.0                0.0   \n",
       "70                0.0                0.0               53.0   \n",
       "71                0.0                0.0                0.0   \n",
       "72                0.0                0.0                0.0   \n",
       "73                0.0               67.0                0.0   \n",
       "\n",
       "    88:36:6c:1d:cf:c4      rp  \n",
       "0                 0.0  751D문쪽  \n",
       "1                 0.0  751D문쪽  \n",
       "2                 0.0  751D문쪽  \n",
       "3                 0.0  751D창쪽  \n",
       "4                 0.0  751D창쪽  \n",
       "..                ...     ...  \n",
       "69                0.0  7층휴게실R  \n",
       "70                0.0  7층휴게실R  \n",
       "71                0.0  7층휴게실R  \n",
       "72                0.0  7층휴게실R  \n",
       "73               62.0  7층휴게실R  \n",
       "\n",
       "[74 rows x 209 columns]"
      ],
      "text/html": "<div>\n<style scoped>\n    .dataframe tbody tr th:only-of-type {\n        vertical-align: middle;\n    }\n\n    .dataframe tbody tr th {\n        vertical-align: top;\n    }\n\n    .dataframe thead th {\n        text-align: right;\n    }\n</style>\n<table border=\"1\" class=\"dataframe\">\n  <thead>\n    <tr style=\"text-align: right;\">\n      <th></th>\n      <th>88:36:6c:1d:d7:6e</th>\n      <th>88:36:6c:1d:d7:6c</th>\n      <th>88:36:6c:1d:ae:8c</th>\n      <th>88:36:6c:1d:db:e0</th>\n      <th>88:36:6c:1d:a7:e4</th>\n      <th>88:36:6c:1d:a5:14</th>\n      <th>88:36:6c:1d:c2:d0</th>\n      <th>88:36:6c:1d:ae:8e</th>\n      <th>88:36:6c:1d:a5:16</th>\n      <th>88:36:6c:1d:d8:6c</th>\n      <th>...</th>\n      <th>88:36:6c:1d:c9:1e</th>\n      <th>88:36:6c:1d:9e:44</th>\n      <th>88:36:6c:1d:da:f8</th>\n      <th>88:36:6c:1d:d1:70</th>\n      <th>88:36:6c:1d:e0:24</th>\n      <th>88:36:6c:1d:a1:d0</th>\n      <th>88:36:6c:1d:cc:b4</th>\n      <th>88:36:6c:1d:d7:e6</th>\n      <th>88:36:6c:1d:cf:c4</th>\n      <th>rp</th>\n    </tr>\n  </thead>\n  <tbody>\n    <tr>\n      <th>0</th>\n      <td>70.0</td>\n      <td>94.0</td>\n      <td>84.0</td>\n      <td>83.0</td>\n      <td>0.0</td>\n      <td>0.0</td>\n      <td>0.0</td>\n      <td>0.0</td>\n      <td>0.0</td>\n      <td>0.0</td>\n      <td>...</td>\n      <td>0.0</td>\n      <td>0.0</td>\n      <td>0.0</td>\n      <td>0.0</td>\n      <td>0.0</td>\n      <td>0.0</td>\n      <td>0.0</td>\n      <td>0.0</td>\n      <td>0.0</td>\n      <td>751D문쪽</td>\n    </tr>\n    <tr>\n      <th>1</th>\n      <td>84.0</td>\n      <td>90.0</td>\n      <td>72.0</td>\n      <td>83.0</td>\n      <td>0.0</td>\n      <td>0.0</td>\n      <td>0.0</td>\n      <td>0.0</td>\n      <td>0.0</td>\n      <td>0.0</td>\n      <td>...</td>\n      <td>0.0</td>\n      <td>0.0</td>\n      <td>0.0</td>\n      <td>0.0</td>\n      <td>0.0</td>\n      <td>0.0</td>\n      <td>0.0</td>\n      <td>0.0</td>\n      <td>0.0</td>\n      <td>751D문쪽</td>\n    </tr>\n    <tr>\n      <th>2</th>\n      <td>80.0</td>\n      <td>92.0</td>\n      <td>85.0</td>\n      <td>60.0</td>\n      <td>57.0</td>\n      <td>0.0</td>\n      <td>0.0</td>\n      <td>0.0</td>\n      <td>0.0</td>\n      <td>0.0</td>\n      <td>...</td>\n      <td>0.0</td>\n      <td>0.0</td>\n      <td>0.0</td>\n      <td>0.0</td>\n      <td>0.0</td>\n      <td>0.0</td>\n      <td>0.0</td>\n      <td>0.0</td>\n      <td>0.0</td>\n      <td>751D문쪽</td>\n    </tr>\n    <tr>\n      <th>3</th>\n      <td>60.0</td>\n      <td>0.0</td>\n      <td>0.0</td>\n      <td>70.0</td>\n      <td>0.0</td>\n      <td>70.0</td>\n      <td>0.0</td>\n      <td>0.0</td>\n      <td>0.0</td>\n      <td>0.0</td>\n      <td>...</td>\n      <td>0.0</td>\n      <td>0.0</td>\n      <td>0.0</td>\n      <td>0.0</td>\n      <td>0.0</td>\n      <td>0.0</td>\n      <td>0.0</td>\n      <td>0.0</td>\n      <td>0.0</td>\n      <td>751D창쪽</td>\n    </tr>\n    <tr>\n      <th>4</th>\n      <td>62.0</td>\n      <td>88.0</td>\n      <td>0.0</td>\n      <td>0.0</td>\n      <td>0.0</td>\n      <td>0.0</td>\n      <td>0.0</td>\n      <td>0.0</td>\n      <td>0.0</td>\n      <td>0.0</td>\n      <td>...</td>\n      <td>0.0</td>\n      <td>0.0</td>\n      <td>0.0</td>\n      <td>0.0</td>\n      <td>0.0</td>\n      <td>0.0</td>\n      <td>0.0</td>\n      <td>0.0</td>\n      <td>0.0</td>\n      <td>751D창쪽</td>\n    </tr>\n    <tr>\n      <th>...</th>\n      <td>...</td>\n      <td>...</td>\n      <td>...</td>\n      <td>...</td>\n      <td>...</td>\n      <td>...</td>\n      <td>...</td>\n      <td>...</td>\n      <td>...</td>\n      <td>...</td>\n      <td>...</td>\n      <td>...</td>\n      <td>...</td>\n      <td>...</td>\n      <td>...</td>\n      <td>...</td>\n      <td>...</td>\n      <td>...</td>\n      <td>...</td>\n      <td>...</td>\n      <td>...</td>\n    </tr>\n    <tr>\n      <th>69</th>\n      <td>0.0</td>\n      <td>0.0</td>\n      <td>0.0</td>\n      <td>0.0</td>\n      <td>0.0</td>\n      <td>0.0</td>\n      <td>0.0</td>\n      <td>0.0</td>\n      <td>0.0</td>\n      <td>0.0</td>\n      <td>...</td>\n      <td>0.0</td>\n      <td>0.0</td>\n      <td>0.0</td>\n      <td>65.0</td>\n      <td>0.0</td>\n      <td>0.0</td>\n      <td>0.0</td>\n      <td>0.0</td>\n      <td>0.0</td>\n      <td>7층휴게실R</td>\n    </tr>\n    <tr>\n      <th>70</th>\n      <td>0.0</td>\n      <td>0.0</td>\n      <td>0.0</td>\n      <td>0.0</td>\n      <td>0.0</td>\n      <td>0.0</td>\n      <td>0.0</td>\n      <td>0.0</td>\n      <td>0.0</td>\n      <td>0.0</td>\n      <td>...</td>\n      <td>0.0</td>\n      <td>0.0</td>\n      <td>0.0</td>\n      <td>62.0</td>\n      <td>0.0</td>\n      <td>0.0</td>\n      <td>0.0</td>\n      <td>53.0</td>\n      <td>0.0</td>\n      <td>7층휴게실R</td>\n    </tr>\n    <tr>\n      <th>71</th>\n      <td>0.0</td>\n      <td>0.0</td>\n      <td>0.0</td>\n      <td>0.0</td>\n      <td>0.0</td>\n      <td>0.0</td>\n      <td>0.0</td>\n      <td>0.0</td>\n      <td>0.0</td>\n      <td>0.0</td>\n      <td>...</td>\n      <td>0.0</td>\n      <td>0.0</td>\n      <td>0.0</td>\n      <td>0.0</td>\n      <td>0.0</td>\n      <td>0.0</td>\n      <td>0.0</td>\n      <td>0.0</td>\n      <td>0.0</td>\n      <td>7층휴게실R</td>\n    </tr>\n    <tr>\n      <th>72</th>\n      <td>0.0</td>\n      <td>0.0</td>\n      <td>0.0</td>\n      <td>0.0</td>\n      <td>0.0</td>\n      <td>0.0</td>\n      <td>0.0</td>\n      <td>0.0</td>\n      <td>0.0</td>\n      <td>0.0</td>\n      <td>...</td>\n      <td>0.0</td>\n      <td>0.0</td>\n      <td>0.0</td>\n      <td>67.0</td>\n      <td>0.0</td>\n      <td>0.0</td>\n      <td>0.0</td>\n      <td>0.0</td>\n      <td>0.0</td>\n      <td>7층휴게실R</td>\n    </tr>\n    <tr>\n      <th>73</th>\n      <td>0.0</td>\n      <td>0.0</td>\n      <td>0.0</td>\n      <td>0.0</td>\n      <td>0.0</td>\n      <td>0.0</td>\n      <td>0.0</td>\n      <td>0.0</td>\n      <td>0.0</td>\n      <td>0.0</td>\n      <td>...</td>\n      <td>0.0</td>\n      <td>0.0</td>\n      <td>0.0</td>\n      <td>65.0</td>\n      <td>0.0</td>\n      <td>0.0</td>\n      <td>67.0</td>\n      <td>0.0</td>\n      <td>62.0</td>\n      <td>7층휴게실R</td>\n    </tr>\n  </tbody>\n</table>\n<p>74 rows × 209 columns</p>\n</div>"
     },
     "metadata": {},
     "execution_count": 3
    }
   ],
   "source": [
    "# data_path에 있는 모든 데이터파일을 dataframe으로 불러와 합치기 + 없는 값(NaN)을 0으로 채우기\n",
    "train_dfs = [pd.read_csv(f, encoding='utf-8') for f in data_path.glob('**/*') if f.is_file()]\n",
    "df_all = pd.concat(train_dfs, ignore_index=True).fillna(0)\n",
    "# 'rp' column을 맨 뒤로 보내기\n",
    "df_all = df_all[[col for col in df_all.columns if col != 'rp'] + ['rp']]\n",
    "df_all"
   ]
  },
  {
   "cell_type": "code",
   "execution_count": 4,
   "metadata": {},
   "outputs": [
    {
     "output_type": "execute_result",
     "data": {
      "text/plain": [
       "array(['751D문쪽', '751D창쪽', '751세면대', '751앞계단', '751앞복도', '7층엘베', '7층휴게실L',\n",
       "       '7층휴게실R'], dtype=object)"
      ]
     },
     "metadata": {},
     "execution_count": 4
    }
   ],
   "source": [
    "rp_encoder = LabelEncoder()\n",
    "rp_encoder.fit(np.unique(df_all['rp']))\n",
    "np.save(model_path / 'classes.npy', rp_encoder.classes_)\n",
    "rp_encoder.classes_"
   ]
  },
  {
   "cell_type": "code",
   "execution_count": 5,
   "metadata": {},
   "outputs": [
    {
     "output_type": "execute_result",
     "data": {
      "text/plain": [
       "0     0\n",
       "1     0\n",
       "2     0\n",
       "3     1\n",
       "4     1\n",
       "     ..\n",
       "69    7\n",
       "70    7\n",
       "71    7\n",
       "72    7\n",
       "73    7\n",
       "Name: rp, Length: 74, dtype: int32"
      ]
     },
     "metadata": {},
     "execution_count": 5
    }
   ],
   "source": [
    "df_all['rp'] = rp_encoder.transform(df_all['rp'])\n",
    "df_all['rp']"
   ]
  },
  {
   "cell_type": "code",
   "execution_count": 6,
   "metadata": {},
   "outputs": [],
   "source": [
    "X = df_all.iloc[:,:-1].values\n",
    "y = df_all.iloc[:,-1].values\n",
    "\n",
    "kf = KFold(n_splits=5, shuffle=True, random_state=12321)"
   ]
  },
  {
   "cell_type": "code",
   "execution_count": 7,
   "metadata": {},
   "outputs": [
    {
     "output_type": "stream",
     "name": "stdout",
     "text": [
      "FOLD #1 TRAIN ACC: 1.00 / TEST ACC: 0.87\n",
      "FOLD #2 TRAIN ACC: 1.00 / TEST ACC: 0.80\n",
      "FOLD #3 TRAIN ACC: 1.00 / TEST ACC: 1.00\n",
      "FOLD #4 TRAIN ACC: 1.00 / TEST ACC: 1.00\n",
      "FOLD #5 TRAIN ACC: 1.00 / TEST ACC: 1.00\n",
      "random forest model for 신관 generated successfully\n"
     ]
    }
   ],
   "source": [
    "fold_n = 1\n",
    "for train_idx, test_idx in kf.split(X):\n",
    "    X_train, X_test = X[train_idx], X[test_idx]\n",
    "    y_train, y_test = y[train_idx], y[test_idx]\n",
    "    \n",
    "    clf = RandomForestClassifier(n_estimators=100, n_jobs=-1, random_state=42)\n",
    "    clf.fit(X_train, y_train)\n",
    "\n",
    "    acc_train = accuracy_score(y_train, clf.predict(X_train))\n",
    "    acc_test = accuracy_score(y_test, clf.predict(X_test))\n",
    "\n",
    "    print(f'FOLD #{fold_n} TRAIN ACC: {acc_train:.2f} / TEST ACC: {acc_test:.2f}')\n",
    "    fold_n += 1\n",
    "\n",
    "clf = RandomForestClassifier(n_estimators=100, n_jobs=-1, random_state=42)\n",
    "clf.fit(X, y)\n",
    "joblib.dump(clf, model_path / 'model_rdf.plk')\n",
    "print(f'random forest model for {pos_name} generated successfully')"
   ]
  },
  {
   "cell_type": "code",
   "execution_count": 8,
   "metadata": {},
   "outputs": [
    {
     "output_type": "stream",
     "name": "stdout",
     "text": [
      "FOLD #1 TRAIN ACC: 0.95 / TEST ACC: 0.60\nFOLD #2 TRAIN ACC: 0.90 / TEST ACC: 0.67\nFOLD #3 TRAIN ACC: 0.92 / TEST ACC: 0.80\nFOLD #4 TRAIN ACC: 0.90 / TEST ACC: 1.00\nFOLD #5 TRAIN ACC: 0.95 / TEST ACC: 0.79\nsvm model for 신관 generated successfully\n"
     ]
    }
   ],
   "source": [
    "fold_n = 1\n",
    "for train_idx, test_idx in kf.split(X):\n",
    "    X_train, X_test = X[train_idx], X[test_idx]\n",
    "    y_train, y_test = y[train_idx], y[test_idx]\n",
    "    \n",
    "    clf = svm.SVC(kernel = 'rbf')\n",
    "    clf.fit(X_train, y_train)\n",
    "\n",
    "    acc_train = accuracy_score(y_train, clf.predict(X_train))\n",
    "    acc_test = accuracy_score(y_test, clf.predict(X_test))\n",
    "\n",
    "    print(f'FOLD #{fold_n} TRAIN ACC: {acc_train:.2f} / TEST ACC: {acc_test:.2f}')\n",
    "    fold_n += 1\n",
    "\n",
    "\n",
    "clf = svm.SVC(kernel = 'rbf', probability=True)\n",
    "clf.fit(X, y)\n",
    "joblib.dump(clf, model_path /  'model_svm.plk')\n",
    "print(f'svm model for {pos_name} generated successfully')"
   ]
  },
  {
   "cell_type": "code",
   "execution_count": null,
   "metadata": {},
   "outputs": [],
   "source": []
  }
 ]
}