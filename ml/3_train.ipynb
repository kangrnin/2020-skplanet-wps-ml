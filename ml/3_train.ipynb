{
 "metadata": {
  "language_info": {
   "codemirror_mode": {
    "name": "ipython",
    "version": 3
   },
   "file_extension": ".py",
   "mimetype": "text/x-python",
   "name": "python",
   "nbconvert_exporter": "python",
   "pygments_lexer": "ipython3",
   "version": "3.8.3-final"
  },
  "orig_nbformat": 2,
  "kernelspec": {
   "name": "python3",
   "display_name": "Python 3"
  }
 },
 "nbformat": 4,
 "nbformat_minor": 2,
 "cells": [
  {
   "cell_type": "code",
   "execution_count": 1,
   "metadata": {},
   "outputs": [],
   "source": [
    "import os, sys, json\n",
    "from pathlib import Path\n",
    "from datetime import datetime\n",
    "from collections import defaultdict\n",
    "\n",
    "import numpy as np\n",
    "import pandas as pd\n",
    "from sklearn.preprocessing import LabelEncoder\n",
    "from sklearn.model_selection import KFold\n",
    "from sklearn.ensemble import RandomForestClassifier\n",
    "from sklearn import svm\n",
    "from sklearn.metrics import accuracy_score\n",
    "import joblib"
   ]
  },
  {
   "cell_type": "code",
   "execution_count": 2,
   "metadata": {},
   "outputs": [],
   "source": [
    "pos_name = input('enter position name : ')\n",
    "\n",
    "data_path = Path('../train_data') / pos_name\n",
    "model_path = Path('../ml_model') / pos_name\n",
    "data_path.mkdir(parents=True, exist_ok=True)\n",
    "model_path.mkdir(parents=True, exist_ok=True)"
   ]
  },
  {
   "cell_type": "code",
   "execution_count": 3,
   "metadata": {},
   "outputs": [
    {
     "output_type": "execute_result",
     "data": {
      "text/plain": [
       "array(['88:36:6c:1d:d7:6e', '88:36:6c:1d:d7:6c', '88:36:6c:1d:ae:8c',\n",
       "       '88:36:6c:1d:db:e0', '88:36:6c:1d:a7:e4', '88:36:6c:1d:a5:14',\n",
       "       '88:36:6c:1d:c2:d0', '88:36:6c:1d:ae:8e', '88:36:6c:1d:a5:16',\n",
       "       '88:36:6c:1d:d8:6c', '88:36:6c:1d:d0:fc', '88:36:6c:1d:b0:d8',\n",
       "       '88:36:6c:05:6a:e4', '88:36:6c:1d:a5:bc', '88:36:6c:1d:c6:f4',\n",
       "       '88:36:6c:1d:ab:f8', '88:36:6c:1d:c5:88', '88:36:6c:1d:9f:30',\n",
       "       '88:36:6c:1d:a1:18', '88:36:6c:1d:a6:20', '88:36:6c:1d:d8:6e',\n",
       "       '88:36:6c:1d:d6:8c', '88:36:6c:1d:d6:0c', '88:36:6c:1d:dc:0c',\n",
       "       '88:36:6c:1d:cf:10', '88:36:6c:1d:a5:be', '88:36:6c:1d:c0:6c',\n",
       "       '90:9f:33:b2:18:b0', '88:36:6c:1d:9e:40', '88:36:6c:1d:d9:10',\n",
       "       '88:36:6c:1d:d7:bc', '88:36:6c:1d:d7:4c', '88:36:6c:1d:d7:94',\n",
       "       '70:5d:cc:d0:e8:ee', '0a:30:0d:d2:99:a6', '06:30:0d:d2:99:96',\n",
       "       '0a:30:0d:d2:99:a1', '06:30:0d:d2:99:91', '00:30:0d:d2:99:a0',\n",
       "       '00:30:0d:d2:99:90', '88:36:6c:1d:cb:3c', '88:36:6c:1d:c8:48',\n",
       "       '88:36:6c:1d:ba:5c', '88:36:6c:1d:d7:30', '88:36:6c:1d:e5:d8',\n",
       "       '88:36:6c:1d:c2:c8', '88:36:6c:1d:be:c0', '88:36:6c:1d:d5:7c',\n",
       "       '88:36:6c:1d:c9:1c', '88:36:6c:1d:b0:38', '88:36:6c:1d:ad:dc',\n",
       "       '88:36:6c:1d:a5:2c', '88:36:6c:1d:a3:dc', '88:36:6c:1d:c2:94',\n",
       "       '88:36:6c:1d:bb:b8', '00:08:5b:9a:53:81', '00:08:5b:9a:53:80',\n",
       "       '08:5d:dd:1d:24:61', '88:36:6c:1d:d2:24', '88:36:6c:1d:df:94',\n",
       "       '00:08:5b:64:20:d1', '00:08:5b:60:10:69', '00:08:5b:64:20:d2',\n",
       "       '88:36:6c:1d:aa:ac', '88:36:6c:1d:de:b4', '88:36:6c:1d:d1:a4',\n",
       "       '08:5d:dd:1d:24:62', '88:36:6c:1d:b3:50', '88:36:6c:1d:c8:40',\n",
       "       '88:36:6c:1d:e0:f4', '88:36:6c:1d:c1:8c', '88:36:6c:1d:c6:98',\n",
       "       '88:36:6c:1d:cc:8c', '88:36:6c:1d:d8:54', '88:36:6c:1d:cd:54',\n",
       "       '00:08:5b:60:10:68', '88:36:6c:1d:a7:98', '70:5d:cc:b3:73:02',\n",
       "       '88:36:6c:1d:c7:70', '70:5d:cc:86:1a:ae', '18:c5:01:8e:23:d6',\n",
       "       '88:36:6c:1d:a4:f8', '88:3c:1c:1b:b8:e0', '70:5d:cc:40:69:60',\n",
       "       '88:3c:1c:47:cb:de', '08:5d:dd:f3:78:9b', '88:36:6c:1d:a2:10',\n",
       "       '08:5d:dd:d3:36:cc', '88:36:6c:1d:bd:08', '00:08:5b:99:af:b8',\n",
       "       '06:30:0d:b0:c8:d6', '00:08:5b:90:5d:78', '88:36:6c:1d:d2:bc',\n",
       "       'e8:65:d4:b9:24:e0', '08:5d:dd:1d:24:d2', '42:23:aa:d5:9c:32',\n",
       "       '00:08:5b:90:5d:79', '88:36:6c:1d:b6:48', '00:23:aa:6a:22:cd',\n",
       "       '88:36:6c:1d:b8:3c', '88:36:6c:1d:da:64', '00:08:5b:90:e8:c1',\n",
       "       '88:36:6c:9a:5a:42', '0a:5d:dd:f3:78:9b', '88:36:6c:1d:c5:8c',\n",
       "       '00:08:5b:8a:25:30', '02:23:aa:6a:22:cd', '02:27:1c:8c:86:aa',\n",
       "       '88:36:6c:1b:ad:4a', '08:5d:dd:03:c7:bb', '08:5d:dd:e9:25:49',\n",
       "       '88:36:6c:1d:da:40', '18:c5:01:d4:4d:5e', '88:36:6c:1d:bb:88',\n",
       "       '88:36:6c:1d:d7:b4', '88:36:6c:1d:c7:18', '88:36:6c:1d:b1:bc',\n",
       "       '00:08:5b:68:91:69', '12:23:aa:d5:9c:32', '00:23:aa:d5:9c:32',\n",
       "       '88:36:6c:1d:9d:b4', '88:36:6c:1d:c2:96', '88:36:6c:1d:da:1c',\n",
       "       '88:36:6c:1d:b0:44', '88:36:6c:1d:aa:9c', '18:c5:01:35:67:7a',\n",
       "       '00:07:89:82:bb:ac', '02:27:1c:b2:dc:1a', '70:5d:cc:93:d7:d4',\n",
       "       '88:36:6c:1d:bb:44', '88:36:6c:1d:e1:14', '00:27:1c:8c:86:aa',\n",
       "       '08:5d:dd:22:61:58', '00:30:0d:16:d2:70', '88:3c:1c:ca:8e:43',\n",
       "       '8a:3c:1c:ca:8e:43', '88:36:6c:1d:d5:ec', '88:36:6c:1d:d0:d0',\n",
       "       '88:36:6c:1d:bf:bc', '00:27:1c:93:da:60', '88:36:6c:1d:a2:2c',\n",
       "       '00:08:5b:8a:25:31', '88:36:6c:1d:d0:ec', '88:36:6c:1d:dc:64',\n",
       "       '88:36:6c:1d:bb:7c', '88:36:6c:1d:da:b4', '88:36:6c:a1:3f:0a',\n",
       "       '88:36:6c:1d:d6:9c', '88:36:6c:1d:9d:cc', '88:36:6c:1d:bb:94',\n",
       "       '60:29:d5:1a:13:45', '88:36:6c:1d:d8:c0', '02:30:0d:16:d2:70',\n",
       "       '88:36:6c:1d:da:a8', '88:36:6c:1d:c2:68', '88:36:6c:1d:9e:cc',\n",
       "       '0a:5d:dd:03:c7:bb', '88:36:6c:1d:a4:6c', '88:36:6c:1d:da:74',\n",
       "       '88:36:6c:1d:d9:b4', '00:72:63:24:65:0e', '88:36:6c:1d:ca:18',\n",
       "       '88:36:6c:1d:d7:90', '0a:30:0d:d0:5d:eb', '0a:30:0d:d2:32:0b',\n",
       "       '0a:30:0d:d0:5d:ea', '0a:30:0d:d0:5d:e6', '06:30:0d:d2:31:f6',\n",
       "       '06:30:0d:d0:5d:d6', '06:30:0d:d0:73:76', '0a:30:0d:d0:5d:e1',\n",
       "       '06:30:0d:d2:31:f1', '06:30:0d:d2:99:31', '06:30:0d:d0:5d:d1',\n",
       "       '00:30:0d:d0:5d:e0', '00:30:0d:d2:32:00', '00:30:0d:d2:31:f0',\n",
       "       '00:30:0d:d2:99:30', '00:30:0d:d0:5d:d0', '88:36:6c:1d:cb:3e',\n",
       "       '88:36:6c:1d:d5:7e', '88:36:6c:1d:d8:38', '88:36:6c:1d:e0:00',\n",
       "       '00:30:0d:5d:cb:dc', '06:30:0d:d0:73:72', '0a:30:0d:d2:32:0a',\n",
       "       '0a:30:0d:d2:32:06', '06:30:0d:d2:99:36', '0a:30:0d:d2:32:01',\n",
       "       '06:30:0d:d0:73:71', '00:30:0d:d0:73:70', '88:36:6c:1d:d7:e4',\n",
       "       '88:36:6c:1d:e5:24', '88:36:6c:1d:e0:fc', '88:36:6c:1d:ba:4c',\n",
       "       '88:36:6c:1d:a1:c8', '88:36:6c:1d:d6:84', '88:36:6c:1d:c8:10',\n",
       "       '06:30:0d:5d:cb:dc', '88:36:6c:1d:c9:1e', '88:36:6c:1d:9e:44',\n",
       "       '88:36:6c:1d:da:f8', '88:36:6c:1d:d1:70', '88:36:6c:1d:e0:24',\n",
       "       '88:36:6c:1d:a1:d0', '88:36:6c:1d:cc:b4', '88:36:6c:1d:d7:e6',\n",
       "       '88:36:6c:1d:cf:c4'], dtype='<U17')"
      ]
     },
     "metadata": {},
     "execution_count": 3
    }
   ],
   "source": [
    "# data_path에 있는 모든 데이터파일을 dataframe으로 불러와 합치기 + 없는 값(NaN)을 0으로 채우기\n",
    "train_dfs = [pd.read_csv(f, encoding='utf-8') for f in data_path.glob('**/*') if f.is_file()]\n",
    "df_all = pd.concat(train_dfs, ignore_index=True).fillna(0)\n",
    "\n",
    "bssids = np.asarray([col for col in df_all.columns if col != 'rp'])\n",
    "np.save(model_path / 'features.npy', bssids)\n",
    "bssids"
   ]
  },
  {
   "cell_type": "code",
   "execution_count": 4,
   "metadata": {},
   "outputs": [
    {
     "output_type": "execute_result",
     "data": {
      "text/plain": [
       "    88:36:6c:1d:d7:6e  88:36:6c:1d:d7:6c  88:36:6c:1d:ae:8c  \\\n",
       "0                70.0               94.0               84.0   \n",
       "1                84.0               90.0               72.0   \n",
       "2                80.0               92.0               85.0   \n",
       "3                60.0                0.0                0.0   \n",
       "4                62.0               88.0                0.0   \n",
       "..                ...                ...                ...   \n",
       "69                0.0                0.0                0.0   \n",
       "70                0.0                0.0                0.0   \n",
       "71                0.0                0.0                0.0   \n",
       "72                0.0                0.0                0.0   \n",
       "73                0.0                0.0                0.0   \n",
       "\n",
       "    88:36:6c:1d:db:e0  88:36:6c:1d:a7:e4  88:36:6c:1d:a5:14  \\\n",
       "0                83.0                0.0                0.0   \n",
       "1                83.0                0.0                0.0   \n",
       "2                60.0               57.0                0.0   \n",
       "3                70.0                0.0               70.0   \n",
       "4                 0.0                0.0                0.0   \n",
       "..                ...                ...                ...   \n",
       "69                0.0                0.0                0.0   \n",
       "70                0.0                0.0                0.0   \n",
       "71                0.0                0.0                0.0   \n",
       "72                0.0                0.0                0.0   \n",
       "73                0.0                0.0                0.0   \n",
       "\n",
       "    88:36:6c:1d:c2:d0  88:36:6c:1d:ae:8e  88:36:6c:1d:a5:16  \\\n",
       "0                 0.0                0.0                0.0   \n",
       "1                 0.0                0.0                0.0   \n",
       "2                 0.0                0.0                0.0   \n",
       "3                 0.0                0.0                0.0   \n",
       "4                 0.0                0.0                0.0   \n",
       "..                ...                ...                ...   \n",
       "69                0.0                0.0                0.0   \n",
       "70                0.0                0.0                0.0   \n",
       "71                0.0                0.0                0.0   \n",
       "72                0.0                0.0                0.0   \n",
       "73                0.0                0.0                0.0   \n",
       "\n",
       "    88:36:6c:1d:d8:6c  ...  88:36:6c:1d:c9:1e  88:36:6c:1d:9e:44  \\\n",
       "0                 0.0  ...                0.0                0.0   \n",
       "1                 0.0  ...                0.0                0.0   \n",
       "2                 0.0  ...                0.0                0.0   \n",
       "3                 0.0  ...                0.0                0.0   \n",
       "4                 0.0  ...                0.0                0.0   \n",
       "..                ...  ...                ...                ...   \n",
       "69                0.0  ...                0.0                0.0   \n",
       "70                0.0  ...                0.0                0.0   \n",
       "71                0.0  ...                0.0                0.0   \n",
       "72                0.0  ...                0.0                0.0   \n",
       "73                0.0  ...                0.0                0.0   \n",
       "\n",
       "    88:36:6c:1d:da:f8  88:36:6c:1d:d1:70  88:36:6c:1d:e0:24  \\\n",
       "0                 0.0                0.0                0.0   \n",
       "1                 0.0                0.0                0.0   \n",
       "2                 0.0                0.0                0.0   \n",
       "3                 0.0                0.0                0.0   \n",
       "4                 0.0                0.0                0.0   \n",
       "..                ...                ...                ...   \n",
       "69                0.0               65.0                0.0   \n",
       "70                0.0               62.0                0.0   \n",
       "71                0.0                0.0                0.0   \n",
       "72                0.0               67.0                0.0   \n",
       "73                0.0               65.0                0.0   \n",
       "\n",
       "    88:36:6c:1d:a1:d0  88:36:6c:1d:cc:b4  88:36:6c:1d:d7:e6  \\\n",
       "0                 0.0                0.0                0.0   \n",
       "1                 0.0                0.0                0.0   \n",
       "2                 0.0                0.0                0.0   \n",
       "3                 0.0                0.0                0.0   \n",
       "4                 0.0                0.0                0.0   \n",
       "..                ...                ...                ...   \n",
       "69                0.0                0.0                0.0   \n",
       "70                0.0                0.0               53.0   \n",
       "71                0.0                0.0                0.0   \n",
       "72                0.0                0.0                0.0   \n",
       "73                0.0               67.0                0.0   \n",
       "\n",
       "    88:36:6c:1d:cf:c4      rp  \n",
       "0                 0.0  751D문쪽  \n",
       "1                 0.0  751D문쪽  \n",
       "2                 0.0  751D문쪽  \n",
       "3                 0.0  751D창쪽  \n",
       "4                 0.0  751D창쪽  \n",
       "..                ...     ...  \n",
       "69                0.0  7층휴게실R  \n",
       "70                0.0  7층휴게실R  \n",
       "71                0.0  7층휴게실R  \n",
       "72                0.0  7층휴게실R  \n",
       "73               62.0  7층휴게실R  \n",
       "\n",
       "[74 rows x 209 columns]"
      ],
      "text/html": "<div>\n<style scoped>\n    .dataframe tbody tr th:only-of-type {\n        vertical-align: middle;\n    }\n\n    .dataframe tbody tr th {\n        vertical-align: top;\n    }\n\n    .dataframe thead th {\n        text-align: right;\n    }\n</style>\n<table border=\"1\" class=\"dataframe\">\n  <thead>\n    <tr style=\"text-align: right;\">\n      <th></th>\n      <th>88:36:6c:1d:d7:6e</th>\n      <th>88:36:6c:1d:d7:6c</th>\n      <th>88:36:6c:1d:ae:8c</th>\n      <th>88:36:6c:1d:db:e0</th>\n      <th>88:36:6c:1d:a7:e4</th>\n      <th>88:36:6c:1d:a5:14</th>\n      <th>88:36:6c:1d:c2:d0</th>\n      <th>88:36:6c:1d:ae:8e</th>\n      <th>88:36:6c:1d:a5:16</th>\n      <th>88:36:6c:1d:d8:6c</th>\n      <th>...</th>\n      <th>88:36:6c:1d:c9:1e</th>\n      <th>88:36:6c:1d:9e:44</th>\n      <th>88:36:6c:1d:da:f8</th>\n      <th>88:36:6c:1d:d1:70</th>\n      <th>88:36:6c:1d:e0:24</th>\n      <th>88:36:6c:1d:a1:d0</th>\n      <th>88:36:6c:1d:cc:b4</th>\n      <th>88:36:6c:1d:d7:e6</th>\n      <th>88:36:6c:1d:cf:c4</th>\n      <th>rp</th>\n    </tr>\n  </thead>\n  <tbody>\n    <tr>\n      <th>0</th>\n      <td>70.0</td>\n      <td>94.0</td>\n      <td>84.0</td>\n      <td>83.0</td>\n      <td>0.0</td>\n      <td>0.0</td>\n      <td>0.0</td>\n      <td>0.0</td>\n      <td>0.0</td>\n      <td>0.0</td>\n      <td>...</td>\n      <td>0.0</td>\n      <td>0.0</td>\n      <td>0.0</td>\n      <td>0.0</td>\n      <td>0.0</td>\n      <td>0.0</td>\n      <td>0.0</td>\n      <td>0.0</td>\n      <td>0.0</td>\n      <td>751D문쪽</td>\n    </tr>\n    <tr>\n      <th>1</th>\n      <td>84.0</td>\n      <td>90.0</td>\n      <td>72.0</td>\n      <td>83.0</td>\n      <td>0.0</td>\n      <td>0.0</td>\n      <td>0.0</td>\n      <td>0.0</td>\n      <td>0.0</td>\n      <td>0.0</td>\n      <td>...</td>\n      <td>0.0</td>\n      <td>0.0</td>\n      <td>0.0</td>\n      <td>0.0</td>\n      <td>0.0</td>\n      <td>0.0</td>\n      <td>0.0</td>\n      <td>0.0</td>\n      <td>0.0</td>\n      <td>751D문쪽</td>\n    </tr>\n    <tr>\n      <th>2</th>\n      <td>80.0</td>\n      <td>92.0</td>\n      <td>85.0</td>\n      <td>60.0</td>\n      <td>57.0</td>\n      <td>0.0</td>\n      <td>0.0</td>\n      <td>0.0</td>\n      <td>0.0</td>\n      <td>0.0</td>\n      <td>...</td>\n      <td>0.0</td>\n      <td>0.0</td>\n      <td>0.0</td>\n      <td>0.0</td>\n      <td>0.0</td>\n      <td>0.0</td>\n      <td>0.0</td>\n      <td>0.0</td>\n      <td>0.0</td>\n      <td>751D문쪽</td>\n    </tr>\n    <tr>\n      <th>3</th>\n      <td>60.0</td>\n      <td>0.0</td>\n      <td>0.0</td>\n      <td>70.0</td>\n      <td>0.0</td>\n      <td>70.0</td>\n      <td>0.0</td>\n      <td>0.0</td>\n      <td>0.0</td>\n      <td>0.0</td>\n      <td>...</td>\n      <td>0.0</td>\n      <td>0.0</td>\n      <td>0.0</td>\n      <td>0.0</td>\n      <td>0.0</td>\n      <td>0.0</td>\n      <td>0.0</td>\n      <td>0.0</td>\n      <td>0.0</td>\n      <td>751D창쪽</td>\n    </tr>\n    <tr>\n      <th>4</th>\n      <td>62.0</td>\n      <td>88.0</td>\n      <td>0.0</td>\n      <td>0.0</td>\n      <td>0.0</td>\n      <td>0.0</td>\n      <td>0.0</td>\n      <td>0.0</td>\n      <td>0.0</td>\n      <td>0.0</td>\n      <td>...</td>\n      <td>0.0</td>\n      <td>0.0</td>\n      <td>0.0</td>\n      <td>0.0</td>\n      <td>0.0</td>\n      <td>0.0</td>\n      <td>0.0</td>\n      <td>0.0</td>\n      <td>0.0</td>\n      <td>751D창쪽</td>\n    </tr>\n    <tr>\n      <th>...</th>\n      <td>...</td>\n      <td>...</td>\n      <td>...</td>\n      <td>...</td>\n      <td>...</td>\n      <td>...</td>\n      <td>...</td>\n      <td>...</td>\n      <td>...</td>\n      <td>...</td>\n      <td>...</td>\n      <td>...</td>\n      <td>...</td>\n      <td>...</td>\n      <td>...</td>\n      <td>...</td>\n      <td>...</td>\n      <td>...</td>\n      <td>...</td>\n      <td>...</td>\n      <td>...</td>\n    </tr>\n    <tr>\n      <th>69</th>\n      <td>0.0</td>\n      <td>0.0</td>\n      <td>0.0</td>\n      <td>0.0</td>\n      <td>0.0</td>\n      <td>0.0</td>\n      <td>0.0</td>\n      <td>0.0</td>\n      <td>0.0</td>\n      <td>0.0</td>\n      <td>...</td>\n      <td>0.0</td>\n      <td>0.0</td>\n      <td>0.0</td>\n      <td>65.0</td>\n      <td>0.0</td>\n      <td>0.0</td>\n      <td>0.0</td>\n      <td>0.0</td>\n      <td>0.0</td>\n      <td>7층휴게실R</td>\n    </tr>\n    <tr>\n      <th>70</th>\n      <td>0.0</td>\n      <td>0.0</td>\n      <td>0.0</td>\n      <td>0.0</td>\n      <td>0.0</td>\n      <td>0.0</td>\n      <td>0.0</td>\n      <td>0.0</td>\n      <td>0.0</td>\n      <td>0.0</td>\n      <td>...</td>\n      <td>0.0</td>\n      <td>0.0</td>\n      <td>0.0</td>\n      <td>62.0</td>\n      <td>0.0</td>\n      <td>0.0</td>\n      <td>0.0</td>\n      <td>53.0</td>\n      <td>0.0</td>\n      <td>7층휴게실R</td>\n    </tr>\n    <tr>\n      <th>71</th>\n      <td>0.0</td>\n      <td>0.0</td>\n      <td>0.0</td>\n      <td>0.0</td>\n      <td>0.0</td>\n      <td>0.0</td>\n      <td>0.0</td>\n      <td>0.0</td>\n      <td>0.0</td>\n      <td>0.0</td>\n      <td>...</td>\n      <td>0.0</td>\n      <td>0.0</td>\n      <td>0.0</td>\n      <td>0.0</td>\n      <td>0.0</td>\n      <td>0.0</td>\n      <td>0.0</td>\n      <td>0.0</td>\n      <td>0.0</td>\n      <td>7층휴게실R</td>\n    </tr>\n    <tr>\n      <th>72</th>\n      <td>0.0</td>\n      <td>0.0</td>\n      <td>0.0</td>\n      <td>0.0</td>\n      <td>0.0</td>\n      <td>0.0</td>\n      <td>0.0</td>\n      <td>0.0</td>\n      <td>0.0</td>\n      <td>0.0</td>\n      <td>...</td>\n      <td>0.0</td>\n      <td>0.0</td>\n      <td>0.0</td>\n      <td>67.0</td>\n      <td>0.0</td>\n      <td>0.0</td>\n      <td>0.0</td>\n      <td>0.0</td>\n      <td>0.0</td>\n      <td>7층휴게실R</td>\n    </tr>\n    <tr>\n      <th>73</th>\n      <td>0.0</td>\n      <td>0.0</td>\n      <td>0.0</td>\n      <td>0.0</td>\n      <td>0.0</td>\n      <td>0.0</td>\n      <td>0.0</td>\n      <td>0.0</td>\n      <td>0.0</td>\n      <td>0.0</td>\n      <td>...</td>\n      <td>0.0</td>\n      <td>0.0</td>\n      <td>0.0</td>\n      <td>65.0</td>\n      <td>0.0</td>\n      <td>0.0</td>\n      <td>67.0</td>\n      <td>0.0</td>\n      <td>62.0</td>\n      <td>7층휴게실R</td>\n    </tr>\n  </tbody>\n</table>\n<p>74 rows × 209 columns</p>\n</div>"
     },
     "metadata": {},
     "execution_count": 4
    }
   ],
   "source": [
    "df_all = df_all[np.append(bssids,'rp')]\n",
    "df_all"
   ]
  },
  {
   "cell_type": "code",
   "execution_count": 5,
   "metadata": {},
   "outputs": [
    {
     "output_type": "execute_result",
     "data": {
      "text/plain": [
       "array(['751D문쪽', '751D창쪽', '751세면대', '751앞계단', '751앞복도', '7층엘베', '7층휴게실L',\n",
       "       '7층휴게실R'], dtype=object)"
      ]
     },
     "metadata": {},
     "execution_count": 5
    }
   ],
   "source": [
    "rp_encoder = LabelEncoder()\n",
    "rp_encoder.fit(np.unique(df_all['rp']))\n",
    "np.save(model_path / 'classes.npy', rp_encoder.classes_)\n",
    "rp_encoder.classes_"
   ]
  },
  {
   "cell_type": "code",
   "execution_count": 6,
   "metadata": {},
   "outputs": [
    {
     "output_type": "execute_result",
     "data": {
      "text/plain": [
       "0     751D문쪽\n",
       "1     751D문쪽\n",
       "2     751D문쪽\n",
       "3     751D창쪽\n",
       "4     751D창쪽\n",
       "       ...  \n",
       "69    7층휴게실R\n",
       "70    7층휴게실R\n",
       "71    7층휴게실R\n",
       "72    7층휴게실R\n",
       "73    7층휴게실R\n",
       "Name: rp, Length: 74, dtype: object"
      ]
     },
     "metadata": {},
     "execution_count": 6
    }
   ],
   "source": [
    "df_all['rp']"
   ]
  },
  {
   "cell_type": "code",
   "execution_count": 7,
   "metadata": {},
   "outputs": [
    {
     "output_type": "execute_result",
     "data": {
      "text/plain": [
       "0     0\n",
       "1     0\n",
       "2     0\n",
       "3     1\n",
       "4     1\n",
       "     ..\n",
       "69    7\n",
       "70    7\n",
       "71    7\n",
       "72    7\n",
       "73    7\n",
       "Name: rp, Length: 74, dtype: int32"
      ]
     },
     "metadata": {},
     "execution_count": 7
    }
   ],
   "source": [
    "df_all['rp'] = rp_encoder.transform(df_all['rp'])\n",
    "df_all['rp']"
   ]
  },
  {
   "cell_type": "code",
   "execution_count": 8,
   "metadata": {},
   "outputs": [],
   "source": [
    "X = df_all.iloc[:,:-1].values\n",
    "y = df_all.iloc[:,-1].values\n",
    "\n",
    "kf = KFold(n_splits=5, shuffle=True, random_state=12321)"
   ]
  },
  {
   "cell_type": "code",
   "execution_count": 9,
   "metadata": {},
   "outputs": [
    {
     "output_type": "stream",
     "name": "stdout",
     "text": [
      "FOLD #1 TRAIN ACC: 1.00 / TEST ACC: 0.87\n",
      "FOLD #2 TRAIN ACC: 1.00 / TEST ACC: 0.80\n",
      "FOLD #3 TRAIN ACC: 1.00 / TEST ACC: 1.00\n",
      "FOLD #4 TRAIN ACC: 1.00 / TEST ACC: 1.00\n",
      "FOLD #5 TRAIN ACC: 1.00 / TEST ACC: 1.00\n",
      "random forest model for 신관 generated successfully\n"
     ]
    }
   ],
   "source": [
    "fold_n = 1\n",
    "for train_idx, test_idx in kf.split(X):\n",
    "    X_train, X_test = X[train_idx], X[test_idx]\n",
    "    y_train, y_test = y[train_idx], y[test_idx]\n",
    "    \n",
    "    clf = RandomForestClassifier(n_estimators=100, n_jobs=-1, random_state=42)\n",
    "    clf.fit(X_train, y_train)\n",
    "\n",
    "    acc_train = accuracy_score(y_train, clf.predict(X_train))\n",
    "    acc_test = accuracy_score(y_test, clf.predict(X_test))\n",
    "\n",
    "    print(f'FOLD #{fold_n} TRAIN ACC: {acc_train:.2f} / TEST ACC: {acc_test:.2f}')\n",
    "    fold_n += 1\n",
    "\n",
    "clf = RandomForestClassifier(n_estimators=100, n_jobs=-1, random_state=42)\n",
    "clf.fit(X, y)\n",
    "joblib.dump(clf, model_path / 'model_rdf.plk')\n",
    "print(f'random forest model for {pos_name} generated successfully')"
   ]
  },
  {
   "cell_type": "code",
   "execution_count": 10,
   "metadata": {},
   "outputs": [
    {
     "output_type": "stream",
     "name": "stdout",
     "text": [
      "FOLD #1 TRAIN ACC: 0.95 / TEST ACC: 0.60\nFOLD #2 TRAIN ACC: 0.90 / TEST ACC: 0.67\nFOLD #3 TRAIN ACC: 0.92 / TEST ACC: 0.80\nFOLD #4 TRAIN ACC: 0.90 / TEST ACC: 1.00\nFOLD #5 TRAIN ACC: 0.95 / TEST ACC: 0.79\nsvm model for 신관 generated successfully\n"
     ]
    }
   ],
   "source": [
    "fold_n = 1\n",
    "for train_idx, test_idx in kf.split(X):\n",
    "    X_train, X_test = X[train_idx], X[test_idx]\n",
    "    y_train, y_test = y[train_idx], y[test_idx]\n",
    "    \n",
    "    clf = svm.SVC(kernel = 'rbf')\n",
    "    clf.fit(X_train, y_train)\n",
    "\n",
    "    acc_train = accuracy_score(y_train, clf.predict(X_train))\n",
    "    acc_test = accuracy_score(y_test, clf.predict(X_test))\n",
    "\n",
    "    print(f'FOLD #{fold_n} TRAIN ACC: {acc_train:.2f} / TEST ACC: {acc_test:.2f}')\n",
    "    fold_n += 1\n",
    "\n",
    "\n",
    "clf = svm.SVC(kernel = 'rbf', probability=True)\n",
    "clf.fit(X, y)\n",
    "joblib.dump(clf, model_path /  'model_svm.plk')\n",
    "print(f'svm model for {pos_name} generated successfully')"
   ]
  },
  {
   "cell_type": "code",
   "execution_count": null,
   "metadata": {},
   "outputs": [],
   "source": []
  }
 ]
}